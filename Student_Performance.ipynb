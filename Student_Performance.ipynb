{
 "cells": [
  {
   "cell_type": "code",
   "execution_count": 1,
   "metadata": {
    "collapsed": true
   },
   "outputs": [],
   "source": [
    "import requests\n",
    "import zipfile\n",
    "import pandas as pd"
   ]
  },
  {
   "cell_type": "markdown",
   "metadata": {},
   "source": [
    "### Fetch the dataset"
   ]
  },
  {
   "cell_type": "code",
   "execution_count": 2,
   "metadata": {
    "collapsed": true
   },
   "outputs": [],
   "source": [
    "response = requests.get('https://archive.ics.uci.edu/ml/machine-learning-databases/00320/student.zip')\n",
    "zipcontent= response.content\n",
    "with open(\"/tmp/student.zip\", 'wb') as f:\n",
    "    f.write(zipcontent)\n",
    "\n",
    "zip_ref = zipfile.ZipFile('/tmp/student.zip', 'r')\n",
    "zip_ref.extractall('/tmp/student/')\n",
    "zip_ref.close()"
   ]
  },
  {
   "cell_type": "markdown",
   "metadata": {},
   "source": [
    "### Load the datasets for grades in Maths and Portuguese"
   ]
  },
  {
   "cell_type": "code",
   "execution_count": 3,
   "metadata": {
    "collapsed": true
   },
   "outputs": [],
   "source": [
    "df_mat = pd.read_csv('/tmp/student/student-mat.csv', delimiter=';')\n",
    "df_por = pd.read_csv('/tmp/student/student-por.csv', delimiter=';')"
   ]
  },
  {
   "cell_type": "markdown",
   "metadata": {},
   "source": [
    "### Have a brief look at the dataset content"
   ]
  },
  {
   "cell_type": "code",
   "execution_count": 4,
   "metadata": {
    "collapsed": false
   },
   "outputs": [
    {
     "name": "stdout",
     "output_type": "stream",
     "text": [
      "<class 'pandas.core.frame.DataFrame'>\n",
      "RangeIndex: 395 entries, 0 to 394\n",
      "Data columns (total 33 columns):\n",
      "school        395 non-null object\n",
      "sex           395 non-null object\n",
      "age           395 non-null int64\n",
      "address       395 non-null object\n",
      "famsize       395 non-null object\n",
      "Pstatus       395 non-null object\n",
      "Medu          395 non-null int64\n",
      "Fedu          395 non-null int64\n",
      "Mjob          395 non-null object\n",
      "Fjob          395 non-null object\n",
      "reason        395 non-null object\n",
      "guardian      395 non-null object\n",
      "traveltime    395 non-null int64\n",
      "studytime     395 non-null int64\n",
      "failures      395 non-null int64\n",
      "schoolsup     395 non-null object\n",
      "famsup        395 non-null object\n",
      "paid          395 non-null object\n",
      "activities    395 non-null object\n",
      "nursery       395 non-null object\n",
      "higher        395 non-null object\n",
      "internet      395 non-null object\n",
      "romantic      395 non-null object\n",
      "famrel        395 non-null int64\n",
      "freetime      395 non-null int64\n",
      "goout         395 non-null int64\n",
      "Dalc          395 non-null int64\n",
      "Walc          395 non-null int64\n",
      "health        395 non-null int64\n",
      "absences      395 non-null int64\n",
      "G1            395 non-null int64\n",
      "G2            395 non-null int64\n",
      "G3            395 non-null int64\n",
      "dtypes: int64(16), object(17)\n",
      "memory usage: 101.9+ KB\n"
     ]
    }
   ],
   "source": [
    "df_mat.info()"
   ]
  },
  {
   "cell_type": "markdown",
   "metadata": {},
   "source": [
    "### Check if there are any outliers in the dataset"
   ]
  },
  {
   "cell_type": "code",
   "execution_count": 5,
   "metadata": {
    "collapsed": false
   },
   "outputs": [
    {
     "data": {
      "text/plain": [
       "school        0\n",
       "sex           0\n",
       "age           0\n",
       "address       0\n",
       "famsize       0\n",
       "Pstatus       0\n",
       "Medu          0\n",
       "Fedu          0\n",
       "Mjob          0\n",
       "Fjob          0\n",
       "reason        0\n",
       "guardian      0\n",
       "traveltime    0\n",
       "studytime     0\n",
       "failures      0\n",
       "schoolsup     0\n",
       "famsup        0\n",
       "paid          0\n",
       "activities    0\n",
       "nursery       0\n",
       "higher        0\n",
       "internet      0\n",
       "romantic      0\n",
       "famrel        0\n",
       "freetime      0\n",
       "goout         0\n",
       "Dalc          0\n",
       "Walc          0\n",
       "health        0\n",
       "absences      0\n",
       "G1            0\n",
       "G2            0\n",
       "G3            0\n",
       "dtype: int64"
      ]
     },
     "execution_count": 5,
     "metadata": {},
     "output_type": "execute_result"
    }
   ],
   "source": [
    "df_mat.isnull().sum()"
   ]
  },
  {
   "cell_type": "markdown",
   "metadata": {},
   "source": [
    "### Convert categorical variables to one hot encoding, keep numerical vars as is."
   ]
  },
  {
   "cell_type": "code",
   "execution_count": 6,
   "metadata": {
    "collapsed": false
   },
   "outputs": [
    {
     "name": "stdout",
     "output_type": "stream",
     "text": [
      "<class 'pandas.core.frame.DataFrame'>\n",
      "RangeIndex: 395 entries, 0 to 394\n",
      "Data columns (total 59 columns):\n",
      "age                  395 non-null int64\n",
      "Medu                 395 non-null int64\n",
      "Fedu                 395 non-null int64\n",
      "traveltime           395 non-null int64\n",
      "studytime            395 non-null int64\n",
      "failures             395 non-null int64\n",
      "famrel               395 non-null int64\n",
      "freetime             395 non-null int64\n",
      "goout                395 non-null int64\n",
      "Dalc                 395 non-null int64\n",
      "Walc                 395 non-null int64\n",
      "health               395 non-null int64\n",
      "absences             395 non-null int64\n",
      "G1                   395 non-null int64\n",
      "G2                   395 non-null int64\n",
      "G3                   395 non-null int64\n",
      "school_GP            395 non-null float64\n",
      "school_MS            395 non-null float64\n",
      "sex_F                395 non-null float64\n",
      "sex_M                395 non-null float64\n",
      "address_R            395 non-null float64\n",
      "address_U            395 non-null float64\n",
      "famsize_GT3          395 non-null float64\n",
      "famsize_LE3          395 non-null float64\n",
      "Pstatus_A            395 non-null float64\n",
      "Pstatus_T            395 non-null float64\n",
      "Mjob_at_home         395 non-null float64\n",
      "Mjob_health          395 non-null float64\n",
      "Mjob_other           395 non-null float64\n",
      "Mjob_services        395 non-null float64\n",
      "Mjob_teacher         395 non-null float64\n",
      "Fjob_at_home         395 non-null float64\n",
      "Fjob_health          395 non-null float64\n",
      "Fjob_other           395 non-null float64\n",
      "Fjob_services        395 non-null float64\n",
      "Fjob_teacher         395 non-null float64\n",
      "reason_course        395 non-null float64\n",
      "reason_home          395 non-null float64\n",
      "reason_other         395 non-null float64\n",
      "reason_reputation    395 non-null float64\n",
      "guardian_father      395 non-null float64\n",
      "guardian_mother      395 non-null float64\n",
      "guardian_other       395 non-null float64\n",
      "schoolsup_no         395 non-null float64\n",
      "schoolsup_yes        395 non-null float64\n",
      "famsup_no            395 non-null float64\n",
      "famsup_yes           395 non-null float64\n",
      "paid_no              395 non-null float64\n",
      "paid_yes             395 non-null float64\n",
      "activities_no        395 non-null float64\n",
      "activities_yes       395 non-null float64\n",
      "nursery_no           395 non-null float64\n",
      "nursery_yes          395 non-null float64\n",
      "higher_no            395 non-null float64\n",
      "higher_yes           395 non-null float64\n",
      "internet_no          395 non-null float64\n",
      "internet_yes         395 non-null float64\n",
      "romantic_no          395 non-null float64\n",
      "romantic_yes         395 non-null float64\n",
      "dtypes: float64(43), int64(16)\n",
      "memory usage: 182.1 KB\n"
     ]
    }
   ],
   "source": [
    "df_mat = pd.get_dummies(df_mat)\n",
    "df_mat.info()"
   ]
  },
  {
   "cell_type": "markdown",
   "metadata": {},
   "source": [
    "### Binary categorical variables can be encoding using only 1 var, so let's delete the other var"
   ]
  },
  {
   "cell_type": "code",
   "execution_count": 7,
   "metadata": {
    "collapsed": false
   },
   "outputs": [
    {
     "data": {
      "text/html": [
       "<div>\n",
       "<table border=\"1\" class=\"dataframe\">\n",
       "  <thead>\n",
       "    <tr style=\"text-align: right;\">\n",
       "      <th></th>\n",
       "      <th>age</th>\n",
       "      <th>Medu</th>\n",
       "      <th>Fedu</th>\n",
       "      <th>traveltime</th>\n",
       "      <th>studytime</th>\n",
       "      <th>failures</th>\n",
       "      <th>famrel</th>\n",
       "      <th>freetime</th>\n",
       "      <th>goout</th>\n",
       "      <th>Dalc</th>\n",
       "      <th>...</th>\n",
       "      <th>guardian_mother</th>\n",
       "      <th>guardian_other</th>\n",
       "      <th>schoolsup_yes</th>\n",
       "      <th>famsup_yes</th>\n",
       "      <th>paid_yes</th>\n",
       "      <th>activities_yes</th>\n",
       "      <th>nursery_yes</th>\n",
       "      <th>higher_yes</th>\n",
       "      <th>internet_yes</th>\n",
       "      <th>romantic_yes</th>\n",
       "    </tr>\n",
       "  </thead>\n",
       "  <tbody>\n",
       "    <tr>\n",
       "      <th>0</th>\n",
       "      <td>18</td>\n",
       "      <td>4</td>\n",
       "      <td>4</td>\n",
       "      <td>2</td>\n",
       "      <td>2</td>\n",
       "      <td>0</td>\n",
       "      <td>4</td>\n",
       "      <td>3</td>\n",
       "      <td>4</td>\n",
       "      <td>1</td>\n",
       "      <td>...</td>\n",
       "      <td>1.0</td>\n",
       "      <td>0.0</td>\n",
       "      <td>1.0</td>\n",
       "      <td>0.0</td>\n",
       "      <td>0.0</td>\n",
       "      <td>0.0</td>\n",
       "      <td>1.0</td>\n",
       "      <td>1.0</td>\n",
       "      <td>0.0</td>\n",
       "      <td>0.0</td>\n",
       "    </tr>\n",
       "    <tr>\n",
       "      <th>1</th>\n",
       "      <td>17</td>\n",
       "      <td>1</td>\n",
       "      <td>1</td>\n",
       "      <td>1</td>\n",
       "      <td>2</td>\n",
       "      <td>0</td>\n",
       "      <td>5</td>\n",
       "      <td>3</td>\n",
       "      <td>3</td>\n",
       "      <td>1</td>\n",
       "      <td>...</td>\n",
       "      <td>0.0</td>\n",
       "      <td>0.0</td>\n",
       "      <td>0.0</td>\n",
       "      <td>1.0</td>\n",
       "      <td>0.0</td>\n",
       "      <td>0.0</td>\n",
       "      <td>0.0</td>\n",
       "      <td>1.0</td>\n",
       "      <td>1.0</td>\n",
       "      <td>0.0</td>\n",
       "    </tr>\n",
       "    <tr>\n",
       "      <th>2</th>\n",
       "      <td>15</td>\n",
       "      <td>1</td>\n",
       "      <td>1</td>\n",
       "      <td>1</td>\n",
       "      <td>2</td>\n",
       "      <td>3</td>\n",
       "      <td>4</td>\n",
       "      <td>3</td>\n",
       "      <td>2</td>\n",
       "      <td>2</td>\n",
       "      <td>...</td>\n",
       "      <td>1.0</td>\n",
       "      <td>0.0</td>\n",
       "      <td>1.0</td>\n",
       "      <td>0.0</td>\n",
       "      <td>1.0</td>\n",
       "      <td>0.0</td>\n",
       "      <td>1.0</td>\n",
       "      <td>1.0</td>\n",
       "      <td>1.0</td>\n",
       "      <td>0.0</td>\n",
       "    </tr>\n",
       "    <tr>\n",
       "      <th>3</th>\n",
       "      <td>15</td>\n",
       "      <td>4</td>\n",
       "      <td>2</td>\n",
       "      <td>1</td>\n",
       "      <td>3</td>\n",
       "      <td>0</td>\n",
       "      <td>3</td>\n",
       "      <td>2</td>\n",
       "      <td>2</td>\n",
       "      <td>1</td>\n",
       "      <td>...</td>\n",
       "      <td>1.0</td>\n",
       "      <td>0.0</td>\n",
       "      <td>0.0</td>\n",
       "      <td>1.0</td>\n",
       "      <td>1.0</td>\n",
       "      <td>1.0</td>\n",
       "      <td>1.0</td>\n",
       "      <td>1.0</td>\n",
       "      <td>1.0</td>\n",
       "      <td>1.0</td>\n",
       "    </tr>\n",
       "    <tr>\n",
       "      <th>4</th>\n",
       "      <td>16</td>\n",
       "      <td>3</td>\n",
       "      <td>3</td>\n",
       "      <td>1</td>\n",
       "      <td>2</td>\n",
       "      <td>0</td>\n",
       "      <td>4</td>\n",
       "      <td>3</td>\n",
       "      <td>2</td>\n",
       "      <td>1</td>\n",
       "      <td>...</td>\n",
       "      <td>0.0</td>\n",
       "      <td>0.0</td>\n",
       "      <td>0.0</td>\n",
       "      <td>1.0</td>\n",
       "      <td>1.0</td>\n",
       "      <td>0.0</td>\n",
       "      <td>1.0</td>\n",
       "      <td>1.0</td>\n",
       "      <td>0.0</td>\n",
       "      <td>0.0</td>\n",
       "    </tr>\n",
       "  </tbody>\n",
       "</table>\n",
       "<p>5 rows × 46 columns</p>\n",
       "</div>"
      ],
      "text/plain": [
       "   age  Medu  Fedu  traveltime  studytime  failures  famrel  freetime  goout  \\\n",
       "0   18     4     4           2          2         0       4         3      4   \n",
       "1   17     1     1           1          2         0       5         3      3   \n",
       "2   15     1     1           1          2         3       4         3      2   \n",
       "3   15     4     2           1          3         0       3         2      2   \n",
       "4   16     3     3           1          2         0       4         3      2   \n",
       "\n",
       "   Dalc      ...       guardian_mother  guardian_other  schoolsup_yes  \\\n",
       "0     1      ...                   1.0             0.0            1.0   \n",
       "1     1      ...                   0.0             0.0            0.0   \n",
       "2     2      ...                   1.0             0.0            1.0   \n",
       "3     1      ...                   1.0             0.0            0.0   \n",
       "4     1      ...                   0.0             0.0            0.0   \n",
       "\n",
       "   famsup_yes  paid_yes  activities_yes  nursery_yes  higher_yes  \\\n",
       "0         0.0       0.0             0.0          1.0         1.0   \n",
       "1         1.0       0.0             0.0          0.0         1.0   \n",
       "2         0.0       1.0             0.0          1.0         1.0   \n",
       "3         1.0       1.0             1.0          1.0         1.0   \n",
       "4         1.0       1.0             0.0          1.0         1.0   \n",
       "\n",
       "   internet_yes  romantic_yes  \n",
       "0           0.0           0.0  \n",
       "1           1.0           0.0  \n",
       "2           1.0           0.0  \n",
       "3           1.0           1.0  \n",
       "4           0.0           0.0  \n",
       "\n",
       "[5 rows x 46 columns]"
      ]
     },
     "execution_count": 7,
     "metadata": {},
     "output_type": "execute_result"
    }
   ],
   "source": [
    "redundant_vars = [\n",
    "    'school_MS',\n",
    "    'sex_M',\n",
    "    'address_U',\n",
    "    'famsize_LE3',\n",
    "    'Pstatus_T',\n",
    "    'schoolsup_no',\n",
    "    'famsup_no',\n",
    "    'paid_no',\n",
    "    'activities_no',\n",
    "    'nursery_no',\n",
    "    'higher_no',\n",
    "    'internet_no',\n",
    "    'romantic_no'\n",
    "]\n",
    "df_mat.drop(redundant_vars, axis=1, inplace=True)\n",
    "df_mat.head()"
   ]
  },
  {
   "cell_type": "markdown",
   "metadata": {},
   "source": [
    "### Correlations for success in Maths"
   ]
  },
  {
   "cell_type": "code",
   "execution_count": 8,
   "metadata": {
    "collapsed": false
   },
   "outputs": [
    {
     "data": {
      "text/plain": [
       "failures            -0.360415\n",
       "age                 -0.161579\n",
       "goout               -0.132791\n",
       "romantic_yes        -0.129970\n",
       "traveltime          -0.117142\n",
       "Mjob_at_home        -0.115634\n",
       "address_R           -0.105756\n",
       "sex_F               -0.103456\n",
       "reason_course       -0.098950\n",
       "Mjob_other          -0.096477\n",
       "guardian_other      -0.087774\n",
       "schoolsup_yes       -0.082788\n",
       "famsize_GT3         -0.081407\n",
       "health              -0.061335\n",
       "Dalc                -0.054660\n",
       "Fjob_other          -0.053483\n",
       "Walc                -0.051939\n",
       "famsup_yes          -0.039157\n",
       "reason_home         -0.021359\n",
       "Fjob_services       -0.016108\n",
       "Fjob_at_home        -0.013385\n",
       "freetime             0.011307\n",
       "activities_yes       0.016100\n",
       "guardian_mother      0.022338\n",
       "guardian_father      0.032493\n",
       "absences             0.034247\n",
       "school_GP            0.045017\n",
       "famrel               0.051363\n",
       "nursery_yes          0.051568\n",
       "reason_other         0.052008\n",
       "Fjob_health          0.057111\n",
       "Mjob_teacher         0.057712\n",
       "Pstatus_A            0.058009\n",
       "Mjob_services        0.078429\n",
       "Fjob_teacher         0.095374\n",
       "reason_reputation    0.095692\n",
       "studytime            0.097820\n",
       "internet_yes         0.098483\n",
       "paid_yes             0.101996\n",
       "Mjob_health          0.116158\n",
       "Fedu                 0.152457\n",
       "higher_yes           0.182465\n",
       "Medu                 0.217147\n",
       "G1                   0.801468\n",
       "G2                   0.904868\n",
       "G3                   1.000000\n",
       "Name: G3, dtype: float64"
      ]
     },
     "execution_count": 8,
     "metadata": {},
     "output_type": "execute_result"
    }
   ],
   "source": [
    "corr_mat = df_mat.corr()\n",
    "corr_mat_G3 = df_mat.corr()['G3']\n",
    "corr_mat_G3.sort_values()"
   ]
  },
  {
   "cell_type": "code",
   "execution_count": 9,
   "metadata": {
    "collapsed": false
   },
   "outputs": [
    {
     "data": {
      "text/html": [
       "<div>\n",
       "<table border=\"1\" class=\"dataframe\">\n",
       "  <thead>\n",
       "    <tr style=\"text-align: right;\">\n",
       "      <th></th>\n",
       "      <th>age</th>\n",
       "      <th>Medu</th>\n",
       "      <th>Fedu</th>\n",
       "      <th>traveltime</th>\n",
       "      <th>studytime</th>\n",
       "      <th>failures</th>\n",
       "      <th>famrel</th>\n",
       "      <th>freetime</th>\n",
       "      <th>goout</th>\n",
       "      <th>Dalc</th>\n",
       "      <th>...</th>\n",
       "      <th>guardian_mother</th>\n",
       "      <th>guardian_other</th>\n",
       "      <th>schoolsup_yes</th>\n",
       "      <th>famsup_yes</th>\n",
       "      <th>paid_yes</th>\n",
       "      <th>activities_yes</th>\n",
       "      <th>nursery_yes</th>\n",
       "      <th>higher_yes</th>\n",
       "      <th>internet_yes</th>\n",
       "      <th>romantic_yes</th>\n",
       "    </tr>\n",
       "  </thead>\n",
       "  <tbody>\n",
       "    <tr>\n",
       "      <th>0</th>\n",
       "      <td>18</td>\n",
       "      <td>4</td>\n",
       "      <td>4</td>\n",
       "      <td>2</td>\n",
       "      <td>2</td>\n",
       "      <td>0</td>\n",
       "      <td>4</td>\n",
       "      <td>3</td>\n",
       "      <td>4</td>\n",
       "      <td>1</td>\n",
       "      <td>...</td>\n",
       "      <td>1.0</td>\n",
       "      <td>0.0</td>\n",
       "      <td>1.0</td>\n",
       "      <td>0.0</td>\n",
       "      <td>0.0</td>\n",
       "      <td>0.0</td>\n",
       "      <td>1.0</td>\n",
       "      <td>1.0</td>\n",
       "      <td>0.0</td>\n",
       "      <td>0.0</td>\n",
       "    </tr>\n",
       "    <tr>\n",
       "      <th>1</th>\n",
       "      <td>17</td>\n",
       "      <td>1</td>\n",
       "      <td>1</td>\n",
       "      <td>1</td>\n",
       "      <td>2</td>\n",
       "      <td>0</td>\n",
       "      <td>5</td>\n",
       "      <td>3</td>\n",
       "      <td>3</td>\n",
       "      <td>1</td>\n",
       "      <td>...</td>\n",
       "      <td>0.0</td>\n",
       "      <td>0.0</td>\n",
       "      <td>0.0</td>\n",
       "      <td>1.0</td>\n",
       "      <td>0.0</td>\n",
       "      <td>0.0</td>\n",
       "      <td>0.0</td>\n",
       "      <td>1.0</td>\n",
       "      <td>1.0</td>\n",
       "      <td>0.0</td>\n",
       "    </tr>\n",
       "    <tr>\n",
       "      <th>2</th>\n",
       "      <td>15</td>\n",
       "      <td>1</td>\n",
       "      <td>1</td>\n",
       "      <td>1</td>\n",
       "      <td>2</td>\n",
       "      <td>0</td>\n",
       "      <td>4</td>\n",
       "      <td>3</td>\n",
       "      <td>2</td>\n",
       "      <td>2</td>\n",
       "      <td>...</td>\n",
       "      <td>1.0</td>\n",
       "      <td>0.0</td>\n",
       "      <td>1.0</td>\n",
       "      <td>0.0</td>\n",
       "      <td>0.0</td>\n",
       "      <td>0.0</td>\n",
       "      <td>1.0</td>\n",
       "      <td>1.0</td>\n",
       "      <td>1.0</td>\n",
       "      <td>0.0</td>\n",
       "    </tr>\n",
       "    <tr>\n",
       "      <th>3</th>\n",
       "      <td>15</td>\n",
       "      <td>4</td>\n",
       "      <td>2</td>\n",
       "      <td>1</td>\n",
       "      <td>3</td>\n",
       "      <td>0</td>\n",
       "      <td>3</td>\n",
       "      <td>2</td>\n",
       "      <td>2</td>\n",
       "      <td>1</td>\n",
       "      <td>...</td>\n",
       "      <td>1.0</td>\n",
       "      <td>0.0</td>\n",
       "      <td>0.0</td>\n",
       "      <td>1.0</td>\n",
       "      <td>0.0</td>\n",
       "      <td>1.0</td>\n",
       "      <td>1.0</td>\n",
       "      <td>1.0</td>\n",
       "      <td>1.0</td>\n",
       "      <td>1.0</td>\n",
       "    </tr>\n",
       "    <tr>\n",
       "      <th>4</th>\n",
       "      <td>16</td>\n",
       "      <td>3</td>\n",
       "      <td>3</td>\n",
       "      <td>1</td>\n",
       "      <td>2</td>\n",
       "      <td>0</td>\n",
       "      <td>4</td>\n",
       "      <td>3</td>\n",
       "      <td>2</td>\n",
       "      <td>1</td>\n",
       "      <td>...</td>\n",
       "      <td>0.0</td>\n",
       "      <td>0.0</td>\n",
       "      <td>0.0</td>\n",
       "      <td>1.0</td>\n",
       "      <td>0.0</td>\n",
       "      <td>0.0</td>\n",
       "      <td>1.0</td>\n",
       "      <td>1.0</td>\n",
       "      <td>0.0</td>\n",
       "      <td>0.0</td>\n",
       "    </tr>\n",
       "  </tbody>\n",
       "</table>\n",
       "<p>5 rows × 46 columns</p>\n",
       "</div>"
      ],
      "text/plain": [
       "   age  Medu  Fedu  traveltime  studytime  failures  famrel  freetime  goout  \\\n",
       "0   18     4     4           2          2         0       4         3      4   \n",
       "1   17     1     1           1          2         0       5         3      3   \n",
       "2   15     1     1           1          2         0       4         3      2   \n",
       "3   15     4     2           1          3         0       3         2      2   \n",
       "4   16     3     3           1          2         0       4         3      2   \n",
       "\n",
       "   Dalc      ...       guardian_mother  guardian_other  schoolsup_yes  \\\n",
       "0     1      ...                   1.0             0.0            1.0   \n",
       "1     1      ...                   0.0             0.0            0.0   \n",
       "2     2      ...                   1.0             0.0            1.0   \n",
       "3     1      ...                   1.0             0.0            0.0   \n",
       "4     1      ...                   0.0             0.0            0.0   \n",
       "\n",
       "   famsup_yes  paid_yes  activities_yes  nursery_yes  higher_yes  \\\n",
       "0         0.0       0.0             0.0          1.0         1.0   \n",
       "1         1.0       0.0             0.0          0.0         1.0   \n",
       "2         0.0       0.0             0.0          1.0         1.0   \n",
       "3         1.0       0.0             1.0          1.0         1.0   \n",
       "4         1.0       0.0             0.0          1.0         1.0   \n",
       "\n",
       "   internet_yes  romantic_yes  \n",
       "0           0.0           0.0  \n",
       "1           1.0           0.0  \n",
       "2           1.0           0.0  \n",
       "3           1.0           1.0  \n",
       "4           0.0           0.0  \n",
       "\n",
       "[5 rows x 46 columns]"
      ]
     },
     "execution_count": 9,
     "metadata": {},
     "output_type": "execute_result"
    }
   ],
   "source": [
    "df_por = pd.get_dummies(df_por)\n",
    "df_por.drop(redundant_vars, axis=1, inplace=True)\n",
    "df_por.head()"
   ]
  },
  {
   "cell_type": "markdown",
   "metadata": {},
   "source": [
    "### Correlations for success in Portuguese"
   ]
  },
  {
   "cell_type": "code",
   "execution_count": 10,
   "metadata": {
    "collapsed": false
   },
   "outputs": [
    {
     "data": {
      "text/plain": [
       "failures            -0.393316\n",
       "Dalc                -0.204719\n",
       "Walc                -0.176619\n",
       "address_R           -0.167637\n",
       "Mjob_at_home        -0.136778\n",
       "reason_other        -0.132577\n",
       "traveltime          -0.127173\n",
       "freetime            -0.122705\n",
       "age                 -0.106505\n",
       "health              -0.098851\n",
       "reason_course       -0.098305\n",
       "absences            -0.091379\n",
       "romantic_yes        -0.090583\n",
       "goout               -0.087641\n",
       "guardian_other      -0.080729\n",
       "schoolsup_yes       -0.066405\n",
       "Mjob_other          -0.059251\n",
       "paid_yes            -0.054898\n",
       "Fjob_services       -0.053204\n",
       "famsize_GT3         -0.045016\n",
       "Fjob_at_home        -0.038904\n",
       "Fjob_other          -0.005301\n",
       "guardian_mother     -0.004415\n",
       "Pstatus_A            0.000754\n",
       "nursery_yes          0.028752\n",
       "Mjob_services        0.038447\n",
       "Fjob_health          0.039142\n",
       "reason_home          0.046537\n",
       "guardian_father      0.051030\n",
       "famsup_yes           0.059206\n",
       "activities_yes       0.059791\n",
       "famrel               0.063361\n",
       "Mjob_health          0.101244\n",
       "Fjob_teacher         0.125916\n",
       "sex_F                0.129077\n",
       "Mjob_teacher         0.134910\n",
       "internet_yes         0.150025\n",
       "reason_reputation    0.170944\n",
       "Fedu                 0.211800\n",
       "Medu                 0.240151\n",
       "studytime            0.249789\n",
       "school_GP            0.284294\n",
       "higher_yes           0.332172\n",
       "G1                   0.826387\n",
       "G2                   0.918548\n",
       "G3                   1.000000\n",
       "Name: G3, dtype: float64"
      ]
     },
     "execution_count": 10,
     "metadata": {},
     "output_type": "execute_result"
    }
   ],
   "source": [
    "corr_por = df_por.corr()\n",
    "corr_por_G3 = df_por.corr()['G3']\n",
    "corr_por_G3.sort_values()"
   ]
  },
  {
   "cell_type": "markdown",
   "metadata": {},
   "source": [
    "## Train linear regression model on the Maths dataset"
   ]
  },
  {
   "cell_type": "code",
   "execution_count": 11,
   "metadata": {
    "collapsed": false
   },
   "outputs": [],
   "source": [
    "from sklearn.model_selection import train_test_split\n",
    "from sklearn.linear_model import LinearRegression\n",
    "from sklearn.metrics import mean_squared_error"
   ]
  },
  {
   "cell_type": "code",
   "execution_count": 12,
   "metadata": {
    "collapsed": true
   },
   "outputs": [],
   "source": [
    "X = df_mat.copy()\n",
    "X.drop(['failures','G1','G2','G3'], axis=1, inplace=True)\n",
    "y= df_mat['G3']"
   ]
  },
  {
   "cell_type": "code",
   "execution_count": 13,
   "metadata": {
    "collapsed": true
   },
   "outputs": [],
   "source": [
    "X_train, X_test, y_train, y_test = train_test_split(X, y)"
   ]
  },
  {
   "cell_type": "code",
   "execution_count": 14,
   "metadata": {
    "collapsed": false
   },
   "outputs": [
    {
     "data": {
      "text/plain": [
       "LinearRegression(copy_X=True, fit_intercept=True, n_jobs=1, normalize=False)"
      ]
     },
     "execution_count": 14,
     "metadata": {},
     "output_type": "execute_result"
    }
   ],
   "source": [
    "model = LinearRegression()\n",
    "model.fit(X_train.values, y_train.values)"
   ]
  },
  {
   "cell_type": "markdown",
   "metadata": {},
   "source": [
    "### Train set MSE"
   ]
  },
  {
   "cell_type": "code",
   "execution_count": 15,
   "metadata": {
    "collapsed": false
   },
   "outputs": [
    {
     "data": {
      "text/plain": [
       "15.851852921517315"
      ]
     },
     "execution_count": 15,
     "metadata": {},
     "output_type": "execute_result"
    }
   ],
   "source": [
    "y_train_predict = model.predict(X_train)\n",
    "mean_squared_error(y_train, y_train_predict)"
   ]
  },
  {
   "cell_type": "markdown",
   "metadata": {},
   "source": [
    "### Test set MSE"
   ]
  },
  {
   "cell_type": "code",
   "execution_count": 16,
   "metadata": {
    "collapsed": false,
    "scrolled": true
   },
   "outputs": [
    {
     "data": {
      "text/plain": [
       "20.167672754237145"
      ]
     },
     "execution_count": 16,
     "metadata": {},
     "output_type": "execute_result"
    }
   ],
   "source": [
    "y_test_predict = model.predict(X_test)\n",
    "mean_squared_error(y_test, y_test_predict)"
   ]
  },
  {
   "cell_type": "markdown",
   "metadata": {},
   "source": [
    "## Train decision tree regressor on the Maths dataset"
   ]
  },
  {
   "cell_type": "code",
   "execution_count": 17,
   "metadata": {
    "collapsed": true
   },
   "outputs": [],
   "source": [
    "from sklearn.tree import DecisionTreeRegressor"
   ]
  },
  {
   "cell_type": "code",
   "execution_count": 18,
   "metadata": {
    "collapsed": false
   },
   "outputs": [
    {
     "data": {
      "text/plain": [
       "DecisionTreeRegressor(criterion='mse', max_depth=12, max_features=10,\n",
       "           max_leaf_nodes=None, min_impurity_decrease=0.1,\n",
       "           min_impurity_split=None, min_samples_leaf=10,\n",
       "           min_samples_split=10, min_weight_fraction_leaf=0.0,\n",
       "           presort=False, random_state=None, splitter='best')"
      ]
     },
     "execution_count": 18,
     "metadata": {},
     "output_type": "execute_result"
    }
   ],
   "source": [
    "model = DecisionTreeRegressor(min_samples_leaf=10, min_impurity_decrease=0.1, max_features=10, min_samples_split=10, max_depth=12)\n",
    "model.fit(X_train.values, y_train.values)"
   ]
  },
  {
   "cell_type": "markdown",
   "metadata": {},
   "source": [
    "### Train set MSE"
   ]
  },
  {
   "cell_type": "code",
   "execution_count": 19,
   "metadata": {
    "collapsed": false
   },
   "outputs": [
    {
     "data": {
      "text/plain": [
       "16.931361506192083"
      ]
     },
     "execution_count": 19,
     "metadata": {},
     "output_type": "execute_result"
    }
   ],
   "source": [
    "y_train_predict = model.predict(X_train)\n",
    "mean_squared_error(y_train, y_train_predict)"
   ]
  },
  {
   "cell_type": "markdown",
   "metadata": {},
   "source": [
    "### Test set MSE"
   ]
  },
  {
   "cell_type": "code",
   "execution_count": 20,
   "metadata": {
    "collapsed": false,
    "scrolled": true
   },
   "outputs": [
    {
     "data": {
      "text/plain": [
       "18.202738109813712"
      ]
     },
     "execution_count": 20,
     "metadata": {},
     "output_type": "execute_result"
    }
   ],
   "source": [
    "y_test_predict = model.predict(X_test)\n",
    "mean_squared_error(y_test, y_test_predict)"
   ]
  }
 ],
 "metadata": {
  "kernelspec": {
   "display_name": "Python 3",
   "language": "python",
   "name": "python3"
  },
  "language_info": {
   "codemirror_mode": {
    "name": "ipython",
    "version": 3
   },
   "file_extension": ".py",
   "mimetype": "text/x-python",
   "name": "python",
   "nbconvert_exporter": "python",
   "pygments_lexer": "ipython3",
   "version": "3.5.2"
  }
 },
 "nbformat": 4,
 "nbformat_minor": 2
}
