{
 "cells": [
  {
   "cell_type": "code",
   "execution_count": 2,
   "metadata": {},
   "outputs": [],
   "source": [
    "import requests\n",
    "import zipfile\n",
    "import pandas as pd"
   ]
  },
  {
   "cell_type": "markdown",
   "metadata": {},
   "source": [
    "### Fetch the dataset"
   ]
  },
  {
   "cell_type": "code",
   "execution_count": 3,
   "metadata": {},
   "outputs": [],
   "source": [
    "response = requests.get('https://archive.ics.uci.edu/ml/machine-learning-databases/00320/student.zip')\n",
    "zipcontent= response.content\n",
    "with open(\"/tmp/student.zip\", 'wb') as f:\n",
    "    f.write(zipcontent)\n",
    "\n",
    "zip_ref = zipfile.ZipFile('/tmp/student.zip', 'r')\n",
    "zip_ref.extractall('/tmp/student/')\n",
    "zip_ref.close()"
   ]
  },
  {
   "cell_type": "markdown",
   "metadata": {},
   "source": [
    "### Load the datasets for grades in Maths and Portuguese"
   ]
  },
  {
   "cell_type": "code",
   "execution_count": 4,
   "metadata": {},
   "outputs": [],
   "source": [
    "df_mat = pd.read_csv('/tmp/student/student-mat.csv', delimiter=';')\n",
    "df_por = pd.read_csv('/tmp/student/student-por.csv', delimiter=';')"
   ]
  },
  {
   "cell_type": "markdown",
   "metadata": {},
   "source": [
    "### Have a brief look at the dataset content"
   ]
  },
  {
   "cell_type": "code",
   "execution_count": 5,
   "metadata": {},
   "outputs": [
    {
     "name": "stdout",
     "output_type": "stream",
     "text": [
      "<class 'pandas.core.frame.DataFrame'>\n",
      "RangeIndex: 395 entries, 0 to 394\n",
      "Data columns (total 33 columns):\n",
      "school        395 non-null object\n",
      "sex           395 non-null object\n",
      "age           395 non-null int64\n",
      "address       395 non-null object\n",
      "famsize       395 non-null object\n",
      "Pstatus       395 non-null object\n",
      "Medu          395 non-null int64\n",
      "Fedu          395 non-null int64\n",
      "Mjob          395 non-null object\n",
      "Fjob          395 non-null object\n",
      "reason        395 non-null object\n",
      "guardian      395 non-null object\n",
      "traveltime    395 non-null int64\n",
      "studytime     395 non-null int64\n",
      "failures      395 non-null int64\n",
      "schoolsup     395 non-null object\n",
      "famsup        395 non-null object\n",
      "paid          395 non-null object\n",
      "activities    395 non-null object\n",
      "nursery       395 non-null object\n",
      "higher        395 non-null object\n",
      "internet      395 non-null object\n",
      "romantic      395 non-null object\n",
      "famrel        395 non-null int64\n",
      "freetime      395 non-null int64\n",
      "goout         395 non-null int64\n",
      "Dalc          395 non-null int64\n",
      "Walc          395 non-null int64\n",
      "health        395 non-null int64\n",
      "absences      395 non-null int64\n",
      "G1            395 non-null int64\n",
      "G2            395 non-null int64\n",
      "G3            395 non-null int64\n",
      "dtypes: int64(16), object(17)\n",
      "memory usage: 101.9+ KB\n"
     ]
    }
   ],
   "source": [
    "df_mat.info()"
   ]
  },
  {
   "cell_type": "markdown",
   "metadata": {},
   "source": [
    "### Check if there are any outliers in the dataset"
   ]
  },
  {
   "cell_type": "code",
   "execution_count": 6,
   "metadata": {},
   "outputs": [
    {
     "data": {
      "text/plain": [
       "school        0\n",
       "sex           0\n",
       "age           0\n",
       "address       0\n",
       "famsize       0\n",
       "Pstatus       0\n",
       "Medu          0\n",
       "Fedu          0\n",
       "Mjob          0\n",
       "Fjob          0\n",
       "reason        0\n",
       "guardian      0\n",
       "traveltime    0\n",
       "studytime     0\n",
       "failures      0\n",
       "schoolsup     0\n",
       "famsup        0\n",
       "paid          0\n",
       "activities    0\n",
       "nursery       0\n",
       "higher        0\n",
       "internet      0\n",
       "romantic      0\n",
       "famrel        0\n",
       "freetime      0\n",
       "goout         0\n",
       "Dalc          0\n",
       "Walc          0\n",
       "health        0\n",
       "absences      0\n",
       "G1            0\n",
       "G2            0\n",
       "G3            0\n",
       "dtype: int64"
      ]
     },
     "execution_count": 6,
     "metadata": {},
     "output_type": "execute_result"
    }
   ],
   "source": [
    "df_mat.isnull().sum()"
   ]
  },
  {
   "cell_type": "markdown",
   "metadata": {},
   "source": [
    "### Convert categorical variables to one hot encoding, keep numerical vars as is."
   ]
  },
  {
   "cell_type": "code",
   "execution_count": 7,
   "metadata": {},
   "outputs": [
    {
     "name": "stdout",
     "output_type": "stream",
     "text": [
      "<class 'pandas.core.frame.DataFrame'>\n",
      "RangeIndex: 395 entries, 0 to 394\n",
      "Data columns (total 59 columns):\n",
      "age                  395 non-null int64\n",
      "Medu                 395 non-null int64\n",
      "Fedu                 395 non-null int64\n",
      "traveltime           395 non-null int64\n",
      "studytime            395 non-null int64\n",
      "failures             395 non-null int64\n",
      "famrel               395 non-null int64\n",
      "freetime             395 non-null int64\n",
      "goout                395 non-null int64\n",
      "Dalc                 395 non-null int64\n",
      "Walc                 395 non-null int64\n",
      "health               395 non-null int64\n",
      "absences             395 non-null int64\n",
      "G1                   395 non-null int64\n",
      "G2                   395 non-null int64\n",
      "G3                   395 non-null int64\n",
      "school_GP            395 non-null uint8\n",
      "school_MS            395 non-null uint8\n",
      "sex_F                395 non-null uint8\n",
      "sex_M                395 non-null uint8\n",
      "address_R            395 non-null uint8\n",
      "address_U            395 non-null uint8\n",
      "famsize_GT3          395 non-null uint8\n",
      "famsize_LE3          395 non-null uint8\n",
      "Pstatus_A            395 non-null uint8\n",
      "Pstatus_T            395 non-null uint8\n",
      "Mjob_at_home         395 non-null uint8\n",
      "Mjob_health          395 non-null uint8\n",
      "Mjob_other           395 non-null uint8\n",
      "Mjob_services        395 non-null uint8\n",
      "Mjob_teacher         395 non-null uint8\n",
      "Fjob_at_home         395 non-null uint8\n",
      "Fjob_health          395 non-null uint8\n",
      "Fjob_other           395 non-null uint8\n",
      "Fjob_services        395 non-null uint8\n",
      "Fjob_teacher         395 non-null uint8\n",
      "reason_course        395 non-null uint8\n",
      "reason_home          395 non-null uint8\n",
      "reason_other         395 non-null uint8\n",
      "reason_reputation    395 non-null uint8\n",
      "guardian_father      395 non-null uint8\n",
      "guardian_mother      395 non-null uint8\n",
      "guardian_other       395 non-null uint8\n",
      "schoolsup_no         395 non-null uint8\n",
      "schoolsup_yes        395 non-null uint8\n",
      "famsup_no            395 non-null uint8\n",
      "famsup_yes           395 non-null uint8\n",
      "paid_no              395 non-null uint8\n",
      "paid_yes             395 non-null uint8\n",
      "activities_no        395 non-null uint8\n",
      "activities_yes       395 non-null uint8\n",
      "nursery_no           395 non-null uint8\n",
      "nursery_yes          395 non-null uint8\n",
      "higher_no            395 non-null uint8\n",
      "higher_yes           395 non-null uint8\n",
      "internet_no          395 non-null uint8\n",
      "internet_yes         395 non-null uint8\n",
      "romantic_no          395 non-null uint8\n",
      "romantic_yes         395 non-null uint8\n",
      "dtypes: int64(16), uint8(43)\n",
      "memory usage: 66.0 KB\n"
     ]
    }
   ],
   "source": [
    "df_mat = pd.get_dummies(df_mat)\n",
    "df_mat.info()"
   ]
  },
  {
   "cell_type": "markdown",
   "metadata": {},
   "source": [
    "### Binary categorical variables can be encoding using only 1 var, so let's delete the other var"
   ]
  },
  {
   "cell_type": "code",
   "execution_count": 8,
   "metadata": {},
   "outputs": [
    {
     "data": {
      "text/html": [
       "<div>\n",
       "<style scoped>\n",
       "    .dataframe tbody tr th:only-of-type {\n",
       "        vertical-align: middle;\n",
       "    }\n",
       "\n",
       "    .dataframe tbody tr th {\n",
       "        vertical-align: top;\n",
       "    }\n",
       "\n",
       "    .dataframe thead th {\n",
       "        text-align: right;\n",
       "    }\n",
       "</style>\n",
       "<table border=\"1\" class=\"dataframe\">\n",
       "  <thead>\n",
       "    <tr style=\"text-align: right;\">\n",
       "      <th></th>\n",
       "      <th>age</th>\n",
       "      <th>Medu</th>\n",
       "      <th>Fedu</th>\n",
       "      <th>traveltime</th>\n",
       "      <th>studytime</th>\n",
       "      <th>failures</th>\n",
       "      <th>famrel</th>\n",
       "      <th>freetime</th>\n",
       "      <th>goout</th>\n",
       "      <th>Dalc</th>\n",
       "      <th>...</th>\n",
       "      <th>guardian_mother</th>\n",
       "      <th>guardian_other</th>\n",
       "      <th>schoolsup_yes</th>\n",
       "      <th>famsup_yes</th>\n",
       "      <th>paid_yes</th>\n",
       "      <th>activities_yes</th>\n",
       "      <th>nursery_yes</th>\n",
       "      <th>higher_yes</th>\n",
       "      <th>internet_yes</th>\n",
       "      <th>romantic_yes</th>\n",
       "    </tr>\n",
       "  </thead>\n",
       "  <tbody>\n",
       "    <tr>\n",
       "      <th>0</th>\n",
       "      <td>18</td>\n",
       "      <td>4</td>\n",
       "      <td>4</td>\n",
       "      <td>2</td>\n",
       "      <td>2</td>\n",
       "      <td>0</td>\n",
       "      <td>4</td>\n",
       "      <td>3</td>\n",
       "      <td>4</td>\n",
       "      <td>1</td>\n",
       "      <td>...</td>\n",
       "      <td>1</td>\n",
       "      <td>0</td>\n",
       "      <td>1</td>\n",
       "      <td>0</td>\n",
       "      <td>0</td>\n",
       "      <td>0</td>\n",
       "      <td>1</td>\n",
       "      <td>1</td>\n",
       "      <td>0</td>\n",
       "      <td>0</td>\n",
       "    </tr>\n",
       "    <tr>\n",
       "      <th>1</th>\n",
       "      <td>17</td>\n",
       "      <td>1</td>\n",
       "      <td>1</td>\n",
       "      <td>1</td>\n",
       "      <td>2</td>\n",
       "      <td>0</td>\n",
       "      <td>5</td>\n",
       "      <td>3</td>\n",
       "      <td>3</td>\n",
       "      <td>1</td>\n",
       "      <td>...</td>\n",
       "      <td>0</td>\n",
       "      <td>0</td>\n",
       "      <td>0</td>\n",
       "      <td>1</td>\n",
       "      <td>0</td>\n",
       "      <td>0</td>\n",
       "      <td>0</td>\n",
       "      <td>1</td>\n",
       "      <td>1</td>\n",
       "      <td>0</td>\n",
       "    </tr>\n",
       "    <tr>\n",
       "      <th>2</th>\n",
       "      <td>15</td>\n",
       "      <td>1</td>\n",
       "      <td>1</td>\n",
       "      <td>1</td>\n",
       "      <td>2</td>\n",
       "      <td>3</td>\n",
       "      <td>4</td>\n",
       "      <td>3</td>\n",
       "      <td>2</td>\n",
       "      <td>2</td>\n",
       "      <td>...</td>\n",
       "      <td>1</td>\n",
       "      <td>0</td>\n",
       "      <td>1</td>\n",
       "      <td>0</td>\n",
       "      <td>1</td>\n",
       "      <td>0</td>\n",
       "      <td>1</td>\n",
       "      <td>1</td>\n",
       "      <td>1</td>\n",
       "      <td>0</td>\n",
       "    </tr>\n",
       "    <tr>\n",
       "      <th>3</th>\n",
       "      <td>15</td>\n",
       "      <td>4</td>\n",
       "      <td>2</td>\n",
       "      <td>1</td>\n",
       "      <td>3</td>\n",
       "      <td>0</td>\n",
       "      <td>3</td>\n",
       "      <td>2</td>\n",
       "      <td>2</td>\n",
       "      <td>1</td>\n",
       "      <td>...</td>\n",
       "      <td>1</td>\n",
       "      <td>0</td>\n",
       "      <td>0</td>\n",
       "      <td>1</td>\n",
       "      <td>1</td>\n",
       "      <td>1</td>\n",
       "      <td>1</td>\n",
       "      <td>1</td>\n",
       "      <td>1</td>\n",
       "      <td>1</td>\n",
       "    </tr>\n",
       "    <tr>\n",
       "      <th>4</th>\n",
       "      <td>16</td>\n",
       "      <td>3</td>\n",
       "      <td>3</td>\n",
       "      <td>1</td>\n",
       "      <td>2</td>\n",
       "      <td>0</td>\n",
       "      <td>4</td>\n",
       "      <td>3</td>\n",
       "      <td>2</td>\n",
       "      <td>1</td>\n",
       "      <td>...</td>\n",
       "      <td>0</td>\n",
       "      <td>0</td>\n",
       "      <td>0</td>\n",
       "      <td>1</td>\n",
       "      <td>1</td>\n",
       "      <td>0</td>\n",
       "      <td>1</td>\n",
       "      <td>1</td>\n",
       "      <td>0</td>\n",
       "      <td>0</td>\n",
       "    </tr>\n",
       "  </tbody>\n",
       "</table>\n",
       "<p>5 rows × 46 columns</p>\n",
       "</div>"
      ],
      "text/plain": [
       "   age  Medu  Fedu  traveltime  studytime  failures  famrel  freetime  goout  \\\n",
       "0   18     4     4           2          2         0       4         3      4   \n",
       "1   17     1     1           1          2         0       5         3      3   \n",
       "2   15     1     1           1          2         3       4         3      2   \n",
       "3   15     4     2           1          3         0       3         2      2   \n",
       "4   16     3     3           1          2         0       4         3      2   \n",
       "\n",
       "   Dalc      ...       guardian_mother  guardian_other  schoolsup_yes  \\\n",
       "0     1      ...                     1               0              1   \n",
       "1     1      ...                     0               0              0   \n",
       "2     2      ...                     1               0              1   \n",
       "3     1      ...                     1               0              0   \n",
       "4     1      ...                     0               0              0   \n",
       "\n",
       "   famsup_yes  paid_yes  activities_yes  nursery_yes  higher_yes  \\\n",
       "0           0         0               0            1           1   \n",
       "1           1         0               0            0           1   \n",
       "2           0         1               0            1           1   \n",
       "3           1         1               1            1           1   \n",
       "4           1         1               0            1           1   \n",
       "\n",
       "   internet_yes  romantic_yes  \n",
       "0             0             0  \n",
       "1             1             0  \n",
       "2             1             0  \n",
       "3             1             1  \n",
       "4             0             0  \n",
       "\n",
       "[5 rows x 46 columns]"
      ]
     },
     "execution_count": 8,
     "metadata": {},
     "output_type": "execute_result"
    }
   ],
   "source": [
    "redundant_vars = [\n",
    "    'school_MS',\n",
    "    'sex_M',\n",
    "    'address_U',\n",
    "    'famsize_LE3',\n",
    "    'Pstatus_T',\n",
    "    'schoolsup_no',\n",
    "    'famsup_no',\n",
    "    'paid_no',\n",
    "    'activities_no',\n",
    "    'nursery_no',\n",
    "    'higher_no',\n",
    "    'internet_no',\n",
    "    'romantic_no'\n",
    "]\n",
    "df_mat.drop(redundant_vars, axis=1, inplace=True)\n",
    "df_mat.head()"
   ]
  },
  {
   "cell_type": "markdown",
   "metadata": {},
   "source": [
    "### Correlations for success in Maths"
   ]
  },
  {
   "cell_type": "code",
   "execution_count": 9,
   "metadata": {},
   "outputs": [
    {
     "data": {
      "text/plain": [
       "failures            -0.360415\n",
       "age                 -0.161579\n",
       "goout               -0.132791\n",
       "romantic_yes        -0.129970\n",
       "traveltime          -0.117142\n",
       "Mjob_at_home        -0.115634\n",
       "address_R           -0.105756\n",
       "sex_F               -0.103456\n",
       "reason_course       -0.098950\n",
       "Mjob_other          -0.096477\n",
       "guardian_other      -0.087774\n",
       "schoolsup_yes       -0.082788\n",
       "famsize_GT3         -0.081407\n",
       "health              -0.061335\n",
       "Dalc                -0.054660\n",
       "Fjob_other          -0.053483\n",
       "Walc                -0.051939\n",
       "famsup_yes          -0.039157\n",
       "reason_home         -0.021359\n",
       "Fjob_services       -0.016108\n",
       "Fjob_at_home        -0.013385\n",
       "freetime             0.011307\n",
       "activities_yes       0.016100\n",
       "guardian_mother      0.022338\n",
       "guardian_father      0.032493\n",
       "absences             0.034247\n",
       "school_GP            0.045017\n",
       "famrel               0.051363\n",
       "nursery_yes          0.051568\n",
       "reason_other         0.052008\n",
       "Fjob_health          0.057111\n",
       "Mjob_teacher         0.057712\n",
       "Pstatus_A            0.058009\n",
       "Mjob_services        0.078429\n",
       "Fjob_teacher         0.095374\n",
       "reason_reputation    0.095692\n",
       "studytime            0.097820\n",
       "internet_yes         0.098483\n",
       "paid_yes             0.101996\n",
       "Mjob_health          0.116158\n",
       "Fedu                 0.152457\n",
       "higher_yes           0.182465\n",
       "Medu                 0.217147\n",
       "G1                   0.801468\n",
       "G2                   0.904868\n",
       "G3                   1.000000\n",
       "Name: G3, dtype: float64"
      ]
     },
     "execution_count": 9,
     "metadata": {},
     "output_type": "execute_result"
    }
   ],
   "source": [
    "corr_mat = df_mat.corr()\n",
    "corr_mat_G3 = df_mat.corr()['G3']\n",
    "corr_mat_G3.sort_values()"
   ]
  },
  {
   "cell_type": "code",
   "execution_count": 10,
   "metadata": {},
   "outputs": [
    {
     "data": {
      "text/html": [
       "<div>\n",
       "<style scoped>\n",
       "    .dataframe tbody tr th:only-of-type {\n",
       "        vertical-align: middle;\n",
       "    }\n",
       "\n",
       "    .dataframe tbody tr th {\n",
       "        vertical-align: top;\n",
       "    }\n",
       "\n",
       "    .dataframe thead th {\n",
       "        text-align: right;\n",
       "    }\n",
       "</style>\n",
       "<table border=\"1\" class=\"dataframe\">\n",
       "  <thead>\n",
       "    <tr style=\"text-align: right;\">\n",
       "      <th></th>\n",
       "      <th>age</th>\n",
       "      <th>Medu</th>\n",
       "      <th>Fedu</th>\n",
       "      <th>traveltime</th>\n",
       "      <th>studytime</th>\n",
       "      <th>failures</th>\n",
       "      <th>famrel</th>\n",
       "      <th>freetime</th>\n",
       "      <th>goout</th>\n",
       "      <th>Dalc</th>\n",
       "      <th>...</th>\n",
       "      <th>guardian_mother</th>\n",
       "      <th>guardian_other</th>\n",
       "      <th>schoolsup_yes</th>\n",
       "      <th>famsup_yes</th>\n",
       "      <th>paid_yes</th>\n",
       "      <th>activities_yes</th>\n",
       "      <th>nursery_yes</th>\n",
       "      <th>higher_yes</th>\n",
       "      <th>internet_yes</th>\n",
       "      <th>romantic_yes</th>\n",
       "    </tr>\n",
       "  </thead>\n",
       "  <tbody>\n",
       "    <tr>\n",
       "      <th>0</th>\n",
       "      <td>18</td>\n",
       "      <td>4</td>\n",
       "      <td>4</td>\n",
       "      <td>2</td>\n",
       "      <td>2</td>\n",
       "      <td>0</td>\n",
       "      <td>4</td>\n",
       "      <td>3</td>\n",
       "      <td>4</td>\n",
       "      <td>1</td>\n",
       "      <td>...</td>\n",
       "      <td>1</td>\n",
       "      <td>0</td>\n",
       "      <td>1</td>\n",
       "      <td>0</td>\n",
       "      <td>0</td>\n",
       "      <td>0</td>\n",
       "      <td>1</td>\n",
       "      <td>1</td>\n",
       "      <td>0</td>\n",
       "      <td>0</td>\n",
       "    </tr>\n",
       "    <tr>\n",
       "      <th>1</th>\n",
       "      <td>17</td>\n",
       "      <td>1</td>\n",
       "      <td>1</td>\n",
       "      <td>1</td>\n",
       "      <td>2</td>\n",
       "      <td>0</td>\n",
       "      <td>5</td>\n",
       "      <td>3</td>\n",
       "      <td>3</td>\n",
       "      <td>1</td>\n",
       "      <td>...</td>\n",
       "      <td>0</td>\n",
       "      <td>0</td>\n",
       "      <td>0</td>\n",
       "      <td>1</td>\n",
       "      <td>0</td>\n",
       "      <td>0</td>\n",
       "      <td>0</td>\n",
       "      <td>1</td>\n",
       "      <td>1</td>\n",
       "      <td>0</td>\n",
       "    </tr>\n",
       "    <tr>\n",
       "      <th>2</th>\n",
       "      <td>15</td>\n",
       "      <td>1</td>\n",
       "      <td>1</td>\n",
       "      <td>1</td>\n",
       "      <td>2</td>\n",
       "      <td>0</td>\n",
       "      <td>4</td>\n",
       "      <td>3</td>\n",
       "      <td>2</td>\n",
       "      <td>2</td>\n",
       "      <td>...</td>\n",
       "      <td>1</td>\n",
       "      <td>0</td>\n",
       "      <td>1</td>\n",
       "      <td>0</td>\n",
       "      <td>0</td>\n",
       "      <td>0</td>\n",
       "      <td>1</td>\n",
       "      <td>1</td>\n",
       "      <td>1</td>\n",
       "      <td>0</td>\n",
       "    </tr>\n",
       "    <tr>\n",
       "      <th>3</th>\n",
       "      <td>15</td>\n",
       "      <td>4</td>\n",
       "      <td>2</td>\n",
       "      <td>1</td>\n",
       "      <td>3</td>\n",
       "      <td>0</td>\n",
       "      <td>3</td>\n",
       "      <td>2</td>\n",
       "      <td>2</td>\n",
       "      <td>1</td>\n",
       "      <td>...</td>\n",
       "      <td>1</td>\n",
       "      <td>0</td>\n",
       "      <td>0</td>\n",
       "      <td>1</td>\n",
       "      <td>0</td>\n",
       "      <td>1</td>\n",
       "      <td>1</td>\n",
       "      <td>1</td>\n",
       "      <td>1</td>\n",
       "      <td>1</td>\n",
       "    </tr>\n",
       "    <tr>\n",
       "      <th>4</th>\n",
       "      <td>16</td>\n",
       "      <td>3</td>\n",
       "      <td>3</td>\n",
       "      <td>1</td>\n",
       "      <td>2</td>\n",
       "      <td>0</td>\n",
       "      <td>4</td>\n",
       "      <td>3</td>\n",
       "      <td>2</td>\n",
       "      <td>1</td>\n",
       "      <td>...</td>\n",
       "      <td>0</td>\n",
       "      <td>0</td>\n",
       "      <td>0</td>\n",
       "      <td>1</td>\n",
       "      <td>0</td>\n",
       "      <td>0</td>\n",
       "      <td>1</td>\n",
       "      <td>1</td>\n",
       "      <td>0</td>\n",
       "      <td>0</td>\n",
       "    </tr>\n",
       "  </tbody>\n",
       "</table>\n",
       "<p>5 rows × 46 columns</p>\n",
       "</div>"
      ],
      "text/plain": [
       "   age  Medu  Fedu  traveltime  studytime  failures  famrel  freetime  goout  \\\n",
       "0   18     4     4           2          2         0       4         3      4   \n",
       "1   17     1     1           1          2         0       5         3      3   \n",
       "2   15     1     1           1          2         0       4         3      2   \n",
       "3   15     4     2           1          3         0       3         2      2   \n",
       "4   16     3     3           1          2         0       4         3      2   \n",
       "\n",
       "   Dalc      ...       guardian_mother  guardian_other  schoolsup_yes  \\\n",
       "0     1      ...                     1               0              1   \n",
       "1     1      ...                     0               0              0   \n",
       "2     2      ...                     1               0              1   \n",
       "3     1      ...                     1               0              0   \n",
       "4     1      ...                     0               0              0   \n",
       "\n",
       "   famsup_yes  paid_yes  activities_yes  nursery_yes  higher_yes  \\\n",
       "0           0         0               0            1           1   \n",
       "1           1         0               0            0           1   \n",
       "2           0         0               0            1           1   \n",
       "3           1         0               1            1           1   \n",
       "4           1         0               0            1           1   \n",
       "\n",
       "   internet_yes  romantic_yes  \n",
       "0             0             0  \n",
       "1             1             0  \n",
       "2             1             0  \n",
       "3             1             1  \n",
       "4             0             0  \n",
       "\n",
       "[5 rows x 46 columns]"
      ]
     },
     "execution_count": 10,
     "metadata": {},
     "output_type": "execute_result"
    }
   ],
   "source": [
    "df_por = pd.get_dummies(df_por)\n",
    "df_por.drop(redundant_vars, axis=1, inplace=True)\n",
    "df_por.head()"
   ]
  },
  {
   "cell_type": "markdown",
   "metadata": {},
   "source": [
    "### Correlations for success in Portuguese"
   ]
  },
  {
   "cell_type": "code",
   "execution_count": 11,
   "metadata": {},
   "outputs": [],
   "source": [
    "corr_por = df_por.corr()\n",
    "corr_por_G3 = df_por.corr()['G3']\n",
    "corr_por_G3 = corr_por_G3.sort_values()"
   ]
  },
  {
   "cell_type": "markdown",
   "metadata": {},
   "source": [
    "## Train linear regression model on the Maths dataset"
   ]
  },
  {
   "cell_type": "code",
   "execution_count": 12,
   "metadata": {},
   "outputs": [],
   "source": [
    "from sklearn.model_selection import train_test_split\n",
    "from sklearn.linear_model import LinearRegression\n",
    "from sklearn.metrics import mean_squared_error"
   ]
  },
  {
   "cell_type": "code",
   "execution_count": 120,
   "metadata": {},
   "outputs": [],
   "source": [
    "X = df_mat.copy()\n",
    "#X.drop(['failures','G1','G2','G3'], axis=1, inplace=True)\n",
    "X.drop(['G3'], axis=1, inplace=True)\n",
    "y= df_mat['G3']"
   ]
  },
  {
   "cell_type": "code",
   "execution_count": 121,
   "metadata": {},
   "outputs": [],
   "source": [
    "X_train, X_test, y_train, y_test = train_test_split(X, y)"
   ]
  },
  {
   "cell_type": "code",
   "execution_count": 122,
   "metadata": {},
   "outputs": [
    {
     "data": {
      "text/plain": [
       "LinearRegression(copy_X=True, fit_intercept=True, n_jobs=1, normalize=False)"
      ]
     },
     "execution_count": 122,
     "metadata": {},
     "output_type": "execute_result"
    }
   ],
   "source": [
    "model = LinearRegression()\n",
    "model.fit(X_train.values, y_train.values)"
   ]
  },
  {
   "cell_type": "markdown",
   "metadata": {},
   "source": [
    "### Train set MSE"
   ]
  },
  {
   "cell_type": "code",
   "execution_count": 123,
   "metadata": {},
   "outputs": [
    {
     "data": {
      "text/plain": [
       "2.958844886497314"
      ]
     },
     "execution_count": 123,
     "metadata": {},
     "output_type": "execute_result"
    }
   ],
   "source": [
    "y_train_predict = model.predict(X_train)\n",
    "mean_squared_error(y_train, y_train_predict)"
   ]
  },
  {
   "cell_type": "markdown",
   "metadata": {},
   "source": [
    "### Test set MSE"
   ]
  },
  {
   "cell_type": "code",
   "execution_count": 124,
   "metadata": {
    "scrolled": true
   },
   "outputs": [
    {
     "data": {
      "text/plain": [
       "0.7719736060288552"
      ]
     },
     "execution_count": 124,
     "metadata": {},
     "output_type": "execute_result"
    }
   ],
   "source": [
    "y_test_predict = model.predict(X_test)\n",
    "mean_squared_error(y_test, y_test_predict)\n",
    "model.score(X_test,y_test)"
   ]
  },
  {
   "cell_type": "markdown",
   "metadata": {},
   "source": [
    "## Train decision tree regressor on the Maths dataset"
   ]
  },
  {
   "cell_type": "code",
   "execution_count": 18,
   "metadata": {},
   "outputs": [],
   "source": [
    "from sklearn.tree import DecisionTreeRegressor"
   ]
  },
  {
   "cell_type": "code",
   "execution_count": 19,
   "metadata": {},
   "outputs": [
    {
     "data": {
      "text/plain": [
       "DecisionTreeRegressor(criterion='mse', max_depth=12, max_features=10,\n",
       "           max_leaf_nodes=None, min_impurity_decrease=0.1,\n",
       "           min_impurity_split=None, min_samples_leaf=10,\n",
       "           min_samples_split=10, min_weight_fraction_leaf=0.0,\n",
       "           presort=False, random_state=None, splitter='best')"
      ]
     },
     "execution_count": 19,
     "metadata": {},
     "output_type": "execute_result"
    }
   ],
   "source": [
    "model2 = DecisionTreeRegressor(min_samples_leaf=10, min_impurity_decrease=0.1, max_features=10, min_samples_split=10, max_depth=12)\n",
    "model2.fit(X_train.values, y_train.values)"
   ]
  },
  {
   "cell_type": "markdown",
   "metadata": {},
   "source": [
    "### Train set MSE"
   ]
  },
  {
   "cell_type": "code",
   "execution_count": 20,
   "metadata": {},
   "outputs": [
    {
     "data": {
      "text/plain": [
       "16.23144274688392"
      ]
     },
     "execution_count": 20,
     "metadata": {},
     "output_type": "execute_result"
    }
   ],
   "source": [
    "y_train_predict = model2.predict(X_train)\n",
    "mean_squared_error(y_train, y_train_predict)"
   ]
  },
  {
   "cell_type": "markdown",
   "metadata": {},
   "source": [
    "### Test set MSE"
   ]
  },
  {
   "cell_type": "code",
   "execution_count": 21,
   "metadata": {
    "scrolled": true
   },
   "outputs": [
    {
     "data": {
      "text/plain": [
       "20.004943332829253"
      ]
     },
     "execution_count": 21,
     "metadata": {},
     "output_type": "execute_result"
    }
   ],
   "source": [
    "y_test_predict = model2.predict(X_test)\n",
    "mean_squared_error(y_test, y_test_predict)"
   ]
  },
  {
   "cell_type": "code",
   "execution_count": 22,
   "metadata": {},
   "outputs": [],
   "source": [
    "import seaborn as sns\n",
    "from matplotlib import pyplot as plt\n",
    "import numpy as np"
   ]
  },
  {
   "cell_type": "code",
   "execution_count": 23,
   "metadata": {},
   "outputs": [
    {
     "data": {
      "text/plain": [
       "(array([38.,  0.,  0.,  0.,  1.,  7., 15.,  9., 32., 28., 56., 47., 31.,\n",
       "        31., 27., 33., 16.,  6., 12.,  5.]),\n",
       " array([-0.5,  0.5,  1.5,  2.5,  3.5,  4.5,  5.5,  6.5,  7.5,  8.5,  9.5,\n",
       "        10.5, 11.5, 12.5, 13.5, 14.5, 15.5, 16.5, 17.5, 18.5, 19.5]),\n",
       " <a list of 20 Patch objects>)"
      ]
     },
     "execution_count": 23,
     "metadata": {},
     "output_type": "execute_result"
    },
    {
     "data": {
      "image/png": "[encoded data removed]",
      "text/plain": [
       "<matplotlib.figure.Figure at 0x10fc49898>"
      ]
     },
     "metadata": {},
     "output_type": "display_data"
    }
   ],
   "source": [
    "plt.hist(df_mat.G3,bins=np.arange(-0.5,20.5,1))"
   ]
  },
  {
   "cell_type": "code",
   "execution_count": 24,
   "metadata": {},
   "outputs": [],
   "source": [
    "CORR = 0.1\n",
    "correlated_vars = corr_mat_G3.index[(corr_mat_G3 > CORR) | (corr_mat_G3 < -CORR)]"
   ]
  },
  {
   "cell_type": "code",
   "execution_count": 42,
   "metadata": {
    "scrolled": false
   },
   "outputs": [
    {
     "data": {
      "text/plain": [
       "\"n = len(correlated_vars)\\nfig,axn = plt.subplots(n,1,figsize=(20,100))\\n    \\n#for c,ax in zip(df_mat.columns,axn):\\n    #ax = sns.boxplot(x=c, y='G3', data=df_mat)\\nfor c,ax in zip(df_mat.columns, axn[:]):\\n    sns.boxplot(x=c, y='G3', data=df_mat, ax=ax)\\n\""
      ]
     },
     "execution_count": 42,
     "metadata": {},
     "output_type": "execute_result"
    }
   ],
   "source": [
    "\"\"\"n = len(correlated_vars)\n",
    "fig,axn = plt.subplots(n,1,figsize=(20,100))\n",
    "    \n",
    "#for c,ax in zip(df_mat.columns,axn):\n",
    "    #ax = sns.boxplot(x=c, y='G3', data=df_mat)\n",
    "for c,ax in zip(df_mat.columns, axn[:]):\n",
    "    sns.boxplot(x=c, y='G3', data=df_mat, ax=ax)\n",
    "\"\"\""
   ]
  },
  {
   "cell_type": "code",
   "execution_count": 43,
   "metadata": {
    "scrolled": false
   },
   "outputs": [
    {
     "data": {
      "text/plain": [
       "'df_mat.hist(bins=20,figsize=(20,25))'"
      ]
     },
     "execution_count": 43,
     "metadata": {},
     "output_type": "execute_result"
    }
   ],
   "source": [
    "\"\"\"df_mat.hist(bins=20,figsize=(20,25))\"\"\""
   ]
  },
  {
   "cell_type": "code",
   "execution_count": 44,
   "metadata": {
    "scrolled": false
   },
   "outputs": [
    {
     "data": {
      "text/plain": [
       "'\\nfrom pandas.tools.plotting import scatter_matrix\\nattributes = correlated_vars\\nscatter_matrix(df_mat[attributes], figsize=(12, 8))\\n'"
      ]
     },
     "execution_count": 44,
     "metadata": {},
     "output_type": "execute_result"
    }
   ],
   "source": [
    "\"\"\"\n",
    "from pandas.tools.plotting import scatter_matrix\n",
    "attributes = correlated_vars\n",
    "scatter_matrix(df_mat[attributes], figsize=(12, 8))\n",
    "\"\"\""
   ]
  },
  {
   "cell_type": "code",
   "execution_count": 28,
   "metadata": {},
   "outputs": [
    {
     "data": {
      "text/plain": [
       "<matplotlib.axes._subplots.AxesSubplot at 0x11adc5cc0>"
      ]
     },
     "execution_count": 28,
     "metadata": {},
     "output_type": "execute_result"
    },
    {
     "data": {
      "image/png": "[encoded data removed]",
      "text/plain": [
       "<matplotlib.figure.Figure at 0x11b0c62b0>"
      ]
     },
     "metadata": {},
     "output_type": "display_data"
    }
   ],
   "source": [
    "sns.boxplot(x='age', y='G3', data=df_mat)"
   ]
  },
  {
   "cell_type": "code",
   "execution_count": 45,
   "metadata": {},
   "outputs": [
    {
     "data": {
      "text/html": [
       "<div>\n",
       "<style scoped>\n",
       "    .dataframe tbody tr th:only-of-type {\n",
       "        vertical-align: middle;\n",
       "    }\n",
       "\n",
       "    .dataframe tbody tr th {\n",
       "        vertical-align: top;\n",
       "    }\n",
       "\n",
       "    .dataframe thead th {\n",
       "        text-align: right;\n",
       "    }\n",
       "</style>\n",
       "<table border=\"1\" class=\"dataframe\">\n",
       "  <thead>\n",
       "    <tr style=\"text-align: right;\">\n",
       "      <th></th>\n",
       "      <th>0</th>\n",
       "    </tr>\n",
       "  </thead>\n",
       "  <tbody>\n",
       "    <tr>\n",
       "      <th>address_R</th>\n",
       "      <td>-1.841250</td>\n",
       "    </tr>\n",
       "    <tr>\n",
       "      <th>romantic_yes</th>\n",
       "      <td>-1.839663</td>\n",
       "    </tr>\n",
       "    <tr>\n",
       "      <th>schoolsup_yes</th>\n",
       "      <td>-1.666729</td>\n",
       "    </tr>\n",
       "    <tr>\n",
       "      <th>school_GP</th>\n",
       "      <td>-1.631516</td>\n",
       "    </tr>\n",
       "    <tr>\n",
       "      <th>sex_F</th>\n",
       "      <td>-1.441741</td>\n",
       "    </tr>\n",
       "    <tr>\n",
       "      <th>Mjob_teacher</th>\n",
       "      <td>-1.233570</td>\n",
       "    </tr>\n",
       "    <tr>\n",
       "      <th>famsup_yes</th>\n",
       "      <td>-0.860352</td>\n",
       "    </tr>\n",
       "    <tr>\n",
       "      <th>goout</th>\n",
       "      <td>-0.756000</td>\n",
       "    </tr>\n",
       "    <tr>\n",
       "      <th>Fjob_services</th>\n",
       "      <td>-0.734789</td>\n",
       "    </tr>\n",
       "    <tr>\n",
       "      <th>Fjob_at_home</th>\n",
       "      <td>-0.721737</td>\n",
       "    </tr>\n",
       "    <tr>\n",
       "      <th>reason_home</th>\n",
       "      <td>-0.619416</td>\n",
       "    </tr>\n",
       "    <tr>\n",
       "      <th>reason_course</th>\n",
       "      <td>-0.510166</td>\n",
       "    </tr>\n",
       "    <tr>\n",
       "      <th>age</th>\n",
       "      <td>-0.462371</td>\n",
       "    </tr>\n",
       "    <tr>\n",
       "      <th>traveltime</th>\n",
       "      <td>-0.459646</td>\n",
       "    </tr>\n",
       "    <tr>\n",
       "      <th>activities_yes</th>\n",
       "      <td>-0.385523</td>\n",
       "    </tr>\n",
       "    <tr>\n",
       "      <th>Fjob_other</th>\n",
       "      <td>-0.380906</td>\n",
       "    </tr>\n",
       "    <tr>\n",
       "      <th>famsize_GT3</th>\n",
       "      <td>-0.353983</td>\n",
       "    </tr>\n",
       "    <tr>\n",
       "      <th>guardian_mother</th>\n",
       "      <td>-0.346607</td>\n",
       "    </tr>\n",
       "    <tr>\n",
       "      <th>health</th>\n",
       "      <td>-0.257399</td>\n",
       "    </tr>\n",
       "    <tr>\n",
       "      <th>Fedu</th>\n",
       "      <td>-0.035544</td>\n",
       "    </tr>\n",
       "    <tr>\n",
       "      <th>Dalc</th>\n",
       "      <td>-0.030876</td>\n",
       "    </tr>\n",
       "    <tr>\n",
       "      <th>guardian_father</th>\n",
       "      <td>0.059251</td>\n",
       "    </tr>\n",
       "    <tr>\n",
       "      <th>Mjob_other</th>\n",
       "      <td>0.071695</td>\n",
       "    </tr>\n",
       "    <tr>\n",
       "      <th>absences</th>\n",
       "      <td>0.075070</td>\n",
       "    </tr>\n",
       "    <tr>\n",
       "      <th>Mjob_at_home</th>\n",
       "      <td>0.177400</td>\n",
       "    </tr>\n",
       "    <tr>\n",
       "      <th>Walc</th>\n",
       "      <td>0.188369</td>\n",
       "    </tr>\n",
       "    <tr>\n",
       "      <th>Mjob_services</th>\n",
       "      <td>0.225672</td>\n",
       "    </tr>\n",
       "    <tr>\n",
       "      <th>Fjob_health</th>\n",
       "      <td>0.231253</td>\n",
       "    </tr>\n",
       "    <tr>\n",
       "      <th>freetime</th>\n",
       "      <td>0.241548</td>\n",
       "    </tr>\n",
       "    <tr>\n",
       "      <th>nursery_yes</th>\n",
       "      <td>0.259870</td>\n",
       "    </tr>\n",
       "    <tr>\n",
       "      <th>guardian_other</th>\n",
       "      <td>0.287356</td>\n",
       "    </tr>\n",
       "    <tr>\n",
       "      <th>Pstatus_A</th>\n",
       "      <td>0.332163</td>\n",
       "    </tr>\n",
       "    <tr>\n",
       "      <th>famrel</th>\n",
       "      <td>0.369507</td>\n",
       "    </tr>\n",
       "    <tr>\n",
       "      <th>reason_reputation</th>\n",
       "      <td>0.495491</td>\n",
       "    </tr>\n",
       "    <tr>\n",
       "      <th>Medu</th>\n",
       "      <td>0.596535</td>\n",
       "    </tr>\n",
       "    <tr>\n",
       "      <th>reason_other</th>\n",
       "      <td>0.634090</td>\n",
       "    </tr>\n",
       "    <tr>\n",
       "      <th>studytime</th>\n",
       "      <td>0.671433</td>\n",
       "    </tr>\n",
       "    <tr>\n",
       "      <th>Mjob_health</th>\n",
       "      <td>0.758802</td>\n",
       "    </tr>\n",
       "    <tr>\n",
       "      <th>internet_yes</th>\n",
       "      <td>0.963629</td>\n",
       "    </tr>\n",
       "    <tr>\n",
       "      <th>paid_yes</th>\n",
       "      <td>1.370219</td>\n",
       "    </tr>\n",
       "    <tr>\n",
       "      <th>Fjob_teacher</th>\n",
       "      <td>1.606179</td>\n",
       "    </tr>\n",
       "    <tr>\n",
       "      <th>higher_yes</th>\n",
       "      <td>1.696786</td>\n",
       "    </tr>\n",
       "  </tbody>\n",
       "</table>\n",
       "</div>"
      ],
      "text/plain": [
       "                          0\n",
       "address_R         -1.841250\n",
       "romantic_yes      -1.839663\n",
       "schoolsup_yes     -1.666729\n",
       "school_GP         -1.631516\n",
       "sex_F             -1.441741\n",
       "Mjob_teacher      -1.233570\n",
       "famsup_yes        -0.860352\n",
       "goout             -0.756000\n",
       "Fjob_services     -0.734789\n",
       "Fjob_at_home      -0.721737\n",
       "reason_home       -0.619416\n",
       "reason_course     -0.510166\n",
       "age               -0.462371\n",
       "traveltime        -0.459646\n",
       "activities_yes    -0.385523\n",
       "Fjob_other        -0.380906\n",
       "famsize_GT3       -0.353983\n",
       "guardian_mother   -0.346607\n",
       "health            -0.257399\n",
       "Fedu              -0.035544\n",
       "Dalc              -0.030876\n",
       "guardian_father    0.059251\n",
       "Mjob_other         0.071695\n",
       "absences           0.075070\n",
       "Mjob_at_home       0.177400\n",
       "Walc               0.188369\n",
       "Mjob_services      0.225672\n",
       "Fjob_health        0.231253\n",
       "freetime           0.241548\n",
       "nursery_yes        0.259870\n",
       "guardian_other     0.287356\n",
       "Pstatus_A          0.332163\n",
       "famrel             0.369507\n",
       "reason_reputation  0.495491\n",
       "Medu               0.596535\n",
       "reason_other       0.634090\n",
       "studytime          0.671433\n",
       "Mjob_health        0.758802\n",
       "internet_yes       0.963629\n",
       "paid_yes           1.370219\n",
       "Fjob_teacher       1.606179\n",
       "higher_yes         1.696786"
      ]
     },
     "execution_count": 45,
     "metadata": {},
     "output_type": "execute_result"
    }
   ],
   "source": [
    "pd.DataFrame(model.coef_,index=X_train.columns).sort_values(0)"
   ]
  },
  {
   "cell_type": "code",
   "execution_count": 125,
   "metadata": {},
   "outputs": [],
   "source": [
    "from sklearn import preprocessing\n",
    "scaler = preprocessing.StandardScaler().fit(X_train)\n",
    "X_train_scaled = scaler.transform(X_train)\n",
    "X_test_scaled = scaler.transform(X_test)\n",
    "X_train_scaled = X_train\n",
    "X_test_scaled = X_test"
   ]
  },
  {
   "cell_type": "code",
   "execution_count": 126,
   "metadata": {},
   "outputs": [
    {
     "name": "stdout",
     "output_type": "stream",
     "text": [
      "1.9017903336902413\n",
      "4.2131651865670925\n"
     ]
    },
    {
     "data": {
      "text/plain": [
       "0.8081561762764858"
      ]
     },
     "execution_count": 126,
     "metadata": {},
     "output_type": "execute_result"
    }
   ],
   "source": [
    "#from sklearn.linear_model import LinearRegression\n",
    "from sklearn.ensemble import RandomForestRegressor\n",
    "m = RandomForestRegressor(n_estimators=1000, min_samples_leaf=5, min_impurity_decrease=0.01, max_features=15, min_samples_split=3, max_depth=8)\n",
    "#m = LinearRegression()\n",
    "m.fit(X_train_scaled, y_train)\n",
    "y_train_predict1 = m.predict(X_train_scaled)\n",
    "print(mean_squared_error(y_train, y_train_predict1))\n",
    "y_test_predict1 = m.predict(X_test_scaled)\n",
    "print(mean_squared_error(y_test, y_test_predict1))\n",
    "\n",
    "m.score(X_test_scaled,y_test)"
   ]
  },
  {
   "cell_type": "code",
   "execution_count": 127,
   "metadata": {},
   "outputs": [
    {
     "data": {
      "text/html": [
       "<div>\n",
       "<style scoped>\n",
       "    .dataframe tbody tr th:only-of-type {\n",
       "        vertical-align: middle;\n",
       "    }\n",
       "\n",
       "    .dataframe tbody tr th {\n",
       "        vertical-align: top;\n",
       "    }\n",
       "\n",
       "    .dataframe thead th {\n",
       "        text-align: right;\n",
       "    }\n",
       "</style>\n",
       "<table border=\"1\" class=\"dataframe\">\n",
       "  <thead>\n",
       "    <tr style=\"text-align: right;\">\n",
       "      <th></th>\n",
       "      <th>0</th>\n",
       "    </tr>\n",
       "  </thead>\n",
       "  <tbody>\n",
       "    <tr>\n",
       "      <th>Fjob_health</th>\n",
       "      <td>0.000000</td>\n",
       "    </tr>\n",
       "    <tr>\n",
       "      <th>Fjob_at_home</th>\n",
       "      <td>0.000110</td>\n",
       "    </tr>\n",
       "    <tr>\n",
       "      <th>reason_other</th>\n",
       "      <td>0.000193</td>\n",
       "    </tr>\n",
       "    <tr>\n",
       "      <th>Pstatus_A</th>\n",
       "      <td>0.000278</td>\n",
       "    </tr>\n",
       "    <tr>\n",
       "      <th>Mjob_health</th>\n",
       "      <td>0.000317</td>\n",
       "    </tr>\n",
       "    <tr>\n",
       "      <th>Mjob_teacher</th>\n",
       "      <td>0.000479</td>\n",
       "    </tr>\n",
       "    <tr>\n",
       "      <th>school_GP</th>\n",
       "      <td>0.000587</td>\n",
       "    </tr>\n",
       "    <tr>\n",
       "      <th>internet_yes</th>\n",
       "      <td>0.000600</td>\n",
       "    </tr>\n",
       "    <tr>\n",
       "      <th>Fjob_teacher</th>\n",
       "      <td>0.000702</td>\n",
       "    </tr>\n",
       "    <tr>\n",
       "      <th>address_R</th>\n",
       "      <td>0.000866</td>\n",
       "    </tr>\n",
       "    <tr>\n",
       "      <th>guardian_father</th>\n",
       "      <td>0.000965</td>\n",
       "    </tr>\n",
       "    <tr>\n",
       "      <th>famsize_GT3</th>\n",
       "      <td>0.001188</td>\n",
       "    </tr>\n",
       "    <tr>\n",
       "      <th>guardian_other</th>\n",
       "      <td>0.001194</td>\n",
       "    </tr>\n",
       "    <tr>\n",
       "      <th>reason_reputation</th>\n",
       "      <td>0.001365</td>\n",
       "    </tr>\n",
       "    <tr>\n",
       "      <th>Fjob_other</th>\n",
       "      <td>0.001468</td>\n",
       "    </tr>\n",
       "    <tr>\n",
       "      <th>famsup_yes</th>\n",
       "      <td>0.001558</td>\n",
       "    </tr>\n",
       "    <tr>\n",
       "      <th>Fjob_services</th>\n",
       "      <td>0.001642</td>\n",
       "    </tr>\n",
       "    <tr>\n",
       "      <th>Mjob_at_home</th>\n",
       "      <td>0.001672</td>\n",
       "    </tr>\n",
       "    <tr>\n",
       "      <th>Mjob_other</th>\n",
       "      <td>0.001714</td>\n",
       "    </tr>\n",
       "    <tr>\n",
       "      <th>sex_F</th>\n",
       "      <td>0.001893</td>\n",
       "    </tr>\n",
       "    <tr>\n",
       "      <th>reason_home</th>\n",
       "      <td>0.001995</td>\n",
       "    </tr>\n",
       "    <tr>\n",
       "      <th>schoolsup_yes</th>\n",
       "      <td>0.002001</td>\n",
       "    </tr>\n",
       "    <tr>\n",
       "      <th>traveltime</th>\n",
       "      <td>0.002171</td>\n",
       "    </tr>\n",
       "    <tr>\n",
       "      <th>reason_course</th>\n",
       "      <td>0.002428</td>\n",
       "    </tr>\n",
       "    <tr>\n",
       "      <th>guardian_mother</th>\n",
       "      <td>0.002484</td>\n",
       "    </tr>\n",
       "    <tr>\n",
       "      <th>Mjob_services</th>\n",
       "      <td>0.002562</td>\n",
       "    </tr>\n",
       "    <tr>\n",
       "      <th>romantic_yes</th>\n",
       "      <td>0.002600</td>\n",
       "    </tr>\n",
       "    <tr>\n",
       "      <th>nursery_yes</th>\n",
       "      <td>0.002811</td>\n",
       "    </tr>\n",
       "    <tr>\n",
       "      <th>Dalc</th>\n",
       "      <td>0.002851</td>\n",
       "    </tr>\n",
       "    <tr>\n",
       "      <th>activities_yes</th>\n",
       "      <td>0.003197</td>\n",
       "    </tr>\n",
       "    <tr>\n",
       "      <th>freetime</th>\n",
       "      <td>0.003203</td>\n",
       "    </tr>\n",
       "    <tr>\n",
       "      <th>studytime</th>\n",
       "      <td>0.003602</td>\n",
       "    </tr>\n",
       "    <tr>\n",
       "      <th>famrel</th>\n",
       "      <td>0.003697</td>\n",
       "    </tr>\n",
       "    <tr>\n",
       "      <th>Fedu</th>\n",
       "      <td>0.004873</td>\n",
       "    </tr>\n",
       "    <tr>\n",
       "      <th>higher_yes</th>\n",
       "      <td>0.004935</td>\n",
       "    </tr>\n",
       "    <tr>\n",
       "      <th>paid_yes</th>\n",
       "      <td>0.006168</td>\n",
       "    </tr>\n",
       "    <tr>\n",
       "      <th>goout</th>\n",
       "      <td>0.006395</td>\n",
       "    </tr>\n",
       "    <tr>\n",
       "      <th>health</th>\n",
       "      <td>0.007031</td>\n",
       "    </tr>\n",
       "    <tr>\n",
       "      <th>Walc</th>\n",
       "      <td>0.007108</td>\n",
       "    </tr>\n",
       "    <tr>\n",
       "      <th>age</th>\n",
       "      <td>0.010185</td>\n",
       "    </tr>\n",
       "    <tr>\n",
       "      <th>Medu</th>\n",
       "      <td>0.010759</td>\n",
       "    </tr>\n",
       "    <tr>\n",
       "      <th>failures</th>\n",
       "      <td>0.030886</td>\n",
       "    </tr>\n",
       "    <tr>\n",
       "      <th>absences</th>\n",
       "      <td>0.088112</td>\n",
       "    </tr>\n",
       "    <tr>\n",
       "      <th>G1</th>\n",
       "      <td>0.287173</td>\n",
       "    </tr>\n",
       "    <tr>\n",
       "      <th>G2</th>\n",
       "      <td>0.481983</td>\n",
       "    </tr>\n",
       "  </tbody>\n",
       "</table>\n",
       "</div>"
      ],
      "text/plain": [
       "                          0\n",
       "Fjob_health        0.000000\n",
       "Fjob_at_home       0.000110\n",
       "reason_other       0.000193\n",
       "Pstatus_A          0.000278\n",
       "Mjob_health        0.000317\n",
       "Mjob_teacher       0.000479\n",
       "school_GP          0.000587\n",
       "internet_yes       0.000600\n",
       "Fjob_teacher       0.000702\n",
       "address_R          0.000866\n",
       "guardian_father    0.000965\n",
       "famsize_GT3        0.001188\n",
       "guardian_other     0.001194\n",
       "reason_reputation  0.001365\n",
       "Fjob_other         0.001468\n",
       "famsup_yes         0.001558\n",
       "Fjob_services      0.001642\n",
       "Mjob_at_home       0.001672\n",
       "Mjob_other         0.001714\n",
       "sex_F              0.001893\n",
       "reason_home        0.001995\n",
       "schoolsup_yes      0.002001\n",
       "traveltime         0.002171\n",
       "reason_course      0.002428\n",
       "guardian_mother    0.002484\n",
       "Mjob_services      0.002562\n",
       "romantic_yes       0.002600\n",
       "nursery_yes        0.002811\n",
       "Dalc               0.002851\n",
       "activities_yes     0.003197\n",
       "freetime           0.003203\n",
       "studytime          0.003602\n",
       "famrel             0.003697\n",
       "Fedu               0.004873\n",
       "higher_yes         0.004935\n",
       "paid_yes           0.006168\n",
       "goout              0.006395\n",
       "health             0.007031\n",
       "Walc               0.007108\n",
       "age                0.010185\n",
       "Medu               0.010759\n",
       "failures           0.030886\n",
       "absences           0.088112\n",
       "G1                 0.287173\n",
       "G2                 0.481983"
      ]
     },
     "execution_count": 127,
     "metadata": {},
     "output_type": "execute_result"
    }
   ],
   "source": [
    "pd.DataFrame(m.feature_importances_,index=X_train.columns).sort_values(0)"
   ]
  },
  {
   "cell_type": "code",
   "execution_count": 128,
   "metadata": {},
   "outputs": [],
   "source": [
    "df_test = pd.DataFrame(data={'true':y_test,'predicted':y_test_predict1,'baseline':np.full_like(y_test_predict1,mean_train)})"
   ]
  },
  {
   "cell_type": "code",
   "execution_count": 138,
   "metadata": {},
   "outputs": [],
   "source": [
    "df_test['mse_baseline']=(df_test.baseline - df_test.true)**2\n",
    "df_test['mse_model']=(df_test.predicted - df_test.true)**2\n",
    "df_test['G2'] = X_test.G2\n",
    "df_test['mse_G2']=(df_test.G2 - df_test.true)**2"
   ]
  },
  {
   "cell_type": "code",
   "execution_count": 139,
   "metadata": {},
   "outputs": [
    {
     "data": {
      "text/plain": [
       "baseline        10.246622\n",
       "predicted        9.663519\n",
       "true             9.757576\n",
       "mse_baseline    22.200598\n",
       "mse_model        4.213165\n",
       "G2              10.040404\n",
       "mse_G2           3.898990\n",
       "dtype: float64"
      ]
     },
     "execution_count": 139,
     "metadata": {},
     "output_type": "execute_result"
    }
   ],
   "source": [
    "df_test.mean()"
   ]
  },
  {
   "cell_type": "code",
   "execution_count": 137,
   "metadata": {},
   "outputs": [
    {
     "data": {
      "text/plain": [
       "365    10\n",
       "298    14\n",
       "214    10\n",
       "394     9\n",
       "117    13\n",
       "331    14\n",
       "325    11\n",
       "167    16\n",
       "16     14\n",
       "121    15\n",
       "146     0\n",
       "268    10\n",
       "390     9\n",
       "339    10\n",
       "307     8\n",
       "349    13\n",
       "308    12\n",
       "30     12\n",
       "343     0\n",
       "186    11\n",
       "83     15\n",
       "316     0\n",
       "313    11\n",
       "80     12\n",
       "213     8\n",
       "63      9\n",
       "91     18\n",
       "263     9\n",
       "45      6\n",
       "89      7\n",
       "       ..\n",
       "58      9\n",
       "364    12\n",
       "387     0\n",
       "242     0\n",
       "66     12\n",
       "346    16\n",
       "357    11\n",
       "107    18\n",
       "85      8\n",
       "179    11\n",
       "62      9\n",
       "136     0\n",
       "71     10\n",
       "178     9\n",
       "229    12\n",
       "97     10\n",
       "87     14\n",
       "362    10\n",
       "189    10\n",
       "296     0\n",
       "191     9\n",
       "148     0\n",
       "372    11\n",
       "222    17\n",
       "22     16\n",
       "165    12\n",
       "140     0\n",
       "332     0\n",
       "183     8\n",
       "310     0\n",
       "Name: G3, Length: 296, dtype: int64"
      ]
     },
     "execution_count": 137,
     "metadata": {},
     "output_type": "execute_result"
    }
   ],
   "source": [
    "y_train"
   ]
  },
  {
   "cell_type": "code",
   "execution_count": 134,
   "metadata": {},
   "outputs": [
    {
     "data": {
      "text/html": [
       "<div>\n",
       "<style scoped>\n",
       "    .dataframe tbody tr th:only-of-type {\n",
       "        vertical-align: middle;\n",
       "    }\n",
       "\n",
       "    .dataframe tbody tr th {\n",
       "        vertical-align: top;\n",
       "    }\n",
       "\n",
       "    .dataframe thead th {\n",
       "        text-align: right;\n",
       "    }\n",
       "</style>\n",
       "<table border=\"1\" class=\"dataframe\">\n",
       "  <thead>\n",
       "    <tr style=\"text-align: right;\">\n",
       "      <th></th>\n",
       "      <th>baseline</th>\n",
       "      <th>predicted</th>\n",
       "      <th>true</th>\n",
       "      <th>mse_baseline</th>\n",
       "      <th>mse_model</th>\n",
       "      <th>G2</th>\n",
       "      <th>mse_G2</th>\n",
       "    </tr>\n",
       "  </thead>\n",
       "  <tbody>\n",
       "    <tr>\n",
       "      <th>55</th>\n",
       "      <td>10.246622</td>\n",
       "      <td>8.937062</td>\n",
       "      <td>10</td>\n",
       "      <td>0.060822</td>\n",
       "      <td>1.129836</td>\n",
       "      <td>NaN</td>\n",
       "      <td>NaN</td>\n",
       "    </tr>\n",
       "    <tr>\n",
       "      <th>377</th>\n",
       "      <td>10.246622</td>\n",
       "      <td>8.570761</td>\n",
       "      <td>10</td>\n",
       "      <td>0.060822</td>\n",
       "      <td>2.042724</td>\n",
       "      <td>NaN</td>\n",
       "      <td>NaN</td>\n",
       "    </tr>\n",
       "    <tr>\n",
       "      <th>171</th>\n",
       "      <td>10.246622</td>\n",
       "      <td>14.409397</td>\n",
       "      <td>16</td>\n",
       "      <td>33.101363</td>\n",
       "      <td>2.530017</td>\n",
       "      <td>NaN</td>\n",
       "      <td>NaN</td>\n",
       "    </tr>\n",
       "    <tr>\n",
       "      <th>217</th>\n",
       "      <td>10.246622</td>\n",
       "      <td>6.478561</td>\n",
       "      <td>8</td>\n",
       "      <td>5.047309</td>\n",
       "      <td>2.314776</td>\n",
       "      <td>NaN</td>\n",
       "      <td>NaN</td>\n",
       "    </tr>\n",
       "    <tr>\n",
       "      <th>259</th>\n",
       "      <td>10.246622</td>\n",
       "      <td>6.652003</td>\n",
       "      <td>0</td>\n",
       "      <td>104.993255</td>\n",
       "      <td>44.249140</td>\n",
       "      <td>NaN</td>\n",
       "      <td>NaN</td>\n",
       "    </tr>\n",
       "  </tbody>\n",
       "</table>\n",
       "</div>"
      ],
      "text/plain": [
       "      baseline  predicted  true  mse_baseline  mse_model  G2  mse_G2\n",
       "55   10.246622   8.937062    10      0.060822   1.129836 NaN     NaN\n",
       "377  10.246622   8.570761    10      0.060822   2.042724 NaN     NaN\n",
       "171  10.246622  14.409397    16     33.101363   2.530017 NaN     NaN\n",
       "217  10.246622   6.478561     8      5.047309   2.314776 NaN     NaN\n",
       "259  10.246622   6.652003     0    104.993255  44.249140 NaN     NaN"
      ]
     },
     "execution_count": 134,
     "metadata": {},
     "output_type": "execute_result"
    }
   ],
   "source": [
    "df_test.head()"
   ]
  },
  {
   "cell_type": "code",
   "execution_count": null,
   "metadata": {},
   "outputs": [],
   "source": []
  },
  {
   "cell_type": "code",
   "execution_count": 36,
   "metadata": {},
   "outputs": [],
   "source": [
    "mean_train = y_train.mean()"
   ]
  },
  {
   "cell_type": "code",
   "execution_count": 37,
   "metadata": {},
   "outputs": [
    {
     "name": "stdout",
     "output_type": "stream",
     "text": [
      "21.72635135135135\n",
      "19.262626262626263\n"
     ]
    }
   ],
   "source": [
    "print(mean_squared_error(y_train, np.full_like(y_train,mean_train)))\n",
    "print(mean_squared_error(y_test, np.full_like(y_test,mean_train)))"
   ]
  },
  {
   "cell_type": "code",
   "execution_count": 38,
   "metadata": {},
   "outputs": [
    {
     "name": "stdout",
     "output_type": "stream",
     "text": [
      "15.258266111580417\n",
      "25.40310267335622\n"
     ]
    }
   ],
   "source": [
    "m2 = DecisionTreeRegressor(min_samples_leaf=10, min_impurity_decrease=0.1, max_features=10, min_samples_split=10, max_depth=12)\n",
    "m2.fit(X_train_scaled, y_train)\n",
    "y_train_predict1 = m2.predict(X_train_scaled)\n",
    "print(mean_squared_error(y_train, y_train_predict1))\n",
    "y_test_predict1 = m2.predict(X_test_scaled)\n",
    "print(mean_squared_error(y_test, y_test_predict1))"
   ]
  },
  {
   "cell_type": "code",
   "execution_count": 39,
   "metadata": {},
   "outputs": [],
   "source": [
    "from sklearn.tree import export_graphviz\n",
    "import datetime\n",
    "import os\n",
    "\n",
    "FEATURES = X_train_scaled.columns\n",
    "\n",
    "i = str(datetime.datetime.now())\n",
    "\n",
    "trees_path = '.'\n",
    "\n",
    "filename_dot = os.path.join(trees_path, 'tree' + '.dot')\n",
    "filename_png = os.path.join(trees_path, 'tree' + '.png')\n",
    "with open(filename_dot, 'w') as f:\n",
    "    f = export_graphviz(m2, out_file=f, feature_names=FEATURES)\n",
    "    \n",
    "!dot -Tpng $filename_dot -o $filename_png"
   ]
  },
  {
   "cell_type": "code",
   "execution_count": 40,
   "metadata": {},
   "outputs": [
    {
     "data": {
      "text/plain": [
       "<matplotlib.axes._subplots.AxesSubplot at 0x11b0bb1d0>"
      ]
     },
     "execution_count": 40,
     "metadata": {},
     "output_type": "execute_result"
    },
    {
     "data": {
      "image/png": "[encoded data removed]",
      "text/plain": [
       "<matplotlib.figure.Figure at 0x11b9de7f0>"
      ]
     },
     "metadata": {},
     "output_type": "display_data"
    }
   ],
   "source": [
    "y_test.hist()"
   ]
  },
  {
   "cell_type": "code",
   "execution_count": 116,
   "metadata": {},
   "outputs": [
    {
     "data": {
      "text/plain": [
       "-0.3792756675543141"
      ]
     },
     "execution_count": 116,
     "metadata": {},
     "output_type": "execute_result"
    }
   ],
   "source": []
  },
  {
   "cell_type": "code",
   "execution_count": null,
   "metadata": {},
   "outputs": [],
   "source": []
  }
 ],
 "metadata": {
  "kernelspec": {
   "display_name": "Python 3",
   "language": "python",
   "name": "python3"
  }
 },
 "nbformat": 4,
 "nbformat_minor": 2
}
